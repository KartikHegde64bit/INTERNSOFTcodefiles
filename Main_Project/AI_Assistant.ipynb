{
 "cells": [
  {
   "cell_type": "code",
   "execution_count": null,
   "id": "ac2d8cae",
   "metadata": {},
   "outputs": [],
   "source": [
    "import os \n",
    "import time \n",
    "import subprocess\n",
    "import json"
   ]
  },
  {
   "cell_type": "code",
   "execution_count": null,
   "id": "4b9bd8c0",
   "metadata": {},
   "outputs": [],
   "source": [
    "import wolframalpha\n",
    "import requests\n",
    "import webbrowser\n",
    "import wikipedia\n",
    "import datetime"
   ]
  },
  {
   "cell_type": "code",
   "execution_count": null,
   "id": "d586ea41",
   "metadata": {},
   "outputs": [],
   "source": [
    "import speech_recognition as sr\n",
    "import pyttsx3"
   ]
  },
  {
   "cell_type": "code",
   "execution_count": null,
   "id": "ad6b1a8c",
   "metadata": {},
   "outputs": [],
   "source": [
    "print(\"YOUR A.I IS LOADING\")"
   ]
  },
  {
   "cell_type": "code",
   "execution_count": null,
   "id": "331d8817",
   "metadata": {},
   "outputs": [],
   "source": [
    "engine=pyttsx3.init('nsss')\n",
    "voices=engine.getProperty('voices')\n",
    "engine.setProperty(\"voice\",'voices[0].id')"
   ]
  },
  {
   "cell_type": "code",
   "execution_count": null,
   "id": "65bd59d8",
   "metadata": {},
   "outputs": [],
   "source": [
    "def speak(text):\n",
    "    engine.say(text)\n",
    "    engine.runAndWait()"
   ]
  },
  {
   "cell_type": "code",
   "execution_count": null,
   "id": "8f5a4ffe",
   "metadata": {},
   "outputs": [],
   "source": [
    "def wishMe():\n",
    "    hour=datetime.datetime.now().hour\n",
    "    if hour>=0 and hour<12:\n",
    "        speak(\"hello, good morning\")\n",
    "        print(\"hello, good morning\")\n",
    "    elif hour>=12 and hour<18:\n",
    "        speak(\"hello,good afternoon\")\n",
    "        print(\"hello good afternoon\")\n",
    "    else:\n",
    "        speak(\"good night\")\n",
    "        print(\"good night\")\n"
   ]
  },
  {
   "cell_type": "code",
   "execution_count": null,
   "id": "3bd0c5bf",
   "metadata": {},
   "outputs": [],
   "source": [
    "def takeCommand():\n",
    "    r=sr.Recognizer()\n",
    "    with sr.Microphone() as source:\n",
    "        print(\"I'm listening\")\n",
    "        audio=r.listen(source)\n",
    "    try:\n",
    "        statement=r.reconize_google(audio,language='en-in')\n",
    "        print(f\"user said:{statement}\\n\")\n",
    "    except Exception as e:\n",
    "        speak(\"pardon me. repeat\")\n",
    "        return none \n",
    "    return statement\n",
    "        "
   ]
  },
  {
   "cell_type": "code",
   "execution_count": null,
   "id": "a6f1c0dc",
   "metadata": {},
   "outputs": [],
   "source": [
    "if __name__=='__main__':\n",
    "    while True:\n",
    "        speak(\"Hoe can I help you\")\n",
    "        statment=takeCommand().lower()\n",
    "        \n",
    "    if statement==0:\n",
    "        continue\n",
    "    if 'goodbye' in statement or 'ok bye ' in statement or 'stop' in statement:\n",
    "        speak(\"your assistant is shutting now\")\n",
    "        break\n",
    "    if 'wikipedia' in statement:\n",
    "        speak(\"searching wikipedia\")\n",
    "        statement=statement.replace(\"wikipedia\",\"\")\n",
    "        resulta=wikipedia.summary(statement,sentences=3)\n",
    "        speak(\"according to wikipedia\")\n",
    "        speak(results)\n",
    "    elif 'youtube ' in statement:\n",
    "        webbrwoser.open_new_tab(\"https://youtube.com\")\n",
    "        speak(\"youtube is open for you\")\n",
    "        time.sleep(5)\n",
    "    elif 'open google' in statement:\n",
    "        webbrowser.open_new_tab(\"www.google.com\")\n",
    "        speak(\"google is now open\")\n",
    "    elif 'open gmail' in statement:\n",
    "        webbrowser.open_new_tab(\"www.gmail.com\")\n",
    "        speak(\"gmail is open\")\n",
    "        time.sleep()\n",
    "    elif 'weather' in statement:\n",
    "        api_key=\"8ef61edcf1c576d65d836254e11ea420\"\n",
    "        base_url=\"https://api.openweathermap.org/data/2.5/weather?\"\n",
    "        speak(\"what's city name\")\n",
    "        cityname=takeCommand()\n",
    "        complete_url=base_url+\"appid=\"+api_key+\"&q=\"+city_name\n",
    "        response=requests.get(complete_url)\n",
    "        x=response.json()\n",
    "        if x[\"cod\"]!=\"404\":\n",
    "            y=x[\"main\"]\n",
    "            current_temperature=y[\"temp\"]\n",
    "            current_humidity=y[\"humidity\"]\n",
    "            z=x[\"weather\"]\n",
    "            weather_description=z[0][\"description\"]\n",
    "            speak(\"the temperature in kelvin is\"+str(current_temperature)+\"humdity is \"+str(humidity)+\"weathr description\"+str(weather_description)\n",
    "            print(\"the temperature in kelvin is\"+str(current_temperature)+\"humdity is \"+str(humidity)+\"weathr description\"+str(weather_description)\n",
    "        else:\n",
    "            speak(\"not found\")\n",
    "            print(\"not found\")\n",
    "    elif \"time\" in statement:\n",
    "        strTime=datetime.datetime.now().strftime(\"%H %M %S\")\n",
    "        speak(f\"the time is {strTime}\")\n",
    "                  \n",
    "    elif \"who are you \" in statement or \"what can you do \" in statement:\n",
    "        speak(\"I am your personal AI assistant.... I can do minor task for you easily\")\n",
    "                  \n",
    "    elif \"who made you\" in statement or \"who created you\" in statement:\n",
    "        speak(\"It was KSH(the genius)\")\n",
    "                  \n",
    "    elif \"search\" in statement:\n",
    "        statement=statement.replace(\"search\",\"\")\n",
    "        webbrowser.open_new_tab(\"statement\")\n",
    "        time.sleep(10)\n",
    "                  \n",
    "    elif \"ask\" what in statement:\n",
    "        question=takeCommand()\n",
    "        app_id=\"GNDSKDS-NDJKJ212\"\n",
    "        client=wolframalpha.Client(\"FBJKF \")\n",
    "        res=Client.query(question)\n",
    "        answer=next(res.results).text\n",
    "        speak(answer)\n",
    "        print(answer)\n",
    "    elif \"logout\" in statement or \"shutdown\" in statement:\n",
    "        speak(\"Shutting off the assistant\")\n",
    "        subprocess.call(['Shutdown','/1'])\n",
    "time.sleep(3)"
   ]
  }
 ],
 "metadata": {
  "kernelspec": {
   "display_name": "Python 3",
   "language": "python",
   "name": "python3"
  },
  "language_info": {
   "codemirror_mode": {
    "name": "ipython",
    "version": 3
   },
   "file_extension": ".py",
   "mimetype": "text/x-python",
   "name": "python",
   "nbconvert_exporter": "python",
   "pygments_lexer": "ipython3",
   "version": "3.8.8"
  }
 },
 "nbformat": 4,
 "nbformat_minor": 5
}
