{
 "cells": [
  {
   "cell_type": "markdown",
   "source": [
    "# NumPy"
   ],
   "metadata": {}
  },
  {
   "cell_type": "markdown",
   "source": [
    "Numpy introduction\n",
    "------------------\n",
    "\n",
    "The NumPy package (read as NUMerical PYthon) provides access to\n",
    "\n",
    "-   a new data structure called `array`s which allow\n",
    "\n",
    "-   efficient vector and matrix operations. It also provides\n",
    "\n",
    "-   a number of linear algebra operations (such as solving of systems of linear equations, computation of Eigenvectors and Eigenvalues).\n",
    "\n",
    "### History\n",
    "\n",
    "Some background information: There are two other implementations that provide nearly the same functionality as NumPy. These are called “Numeric” and “numarray”:\n",
    "\n",
    "-   Numeric was the first provision of a set of numerical methods (similar to Matlab) for Python. It evolved from a PhD project.\n",
    "\n",
    "-   Numarray is a re-implementation of Numeric with certain improvements (but for our purposes both Numeric and Numarray behave virtually identical).\n",
    "\n",
    "-   Early in 2006 it was decided to merge the best aspects of Numeric and Numarray into the Scientific Python (<span>`scipy`</span>) package and to provide (a hopefully “final”) `array` data type under the module name “NumPy”.\n",
    "\n",
    "We will use in the following materials the “NumPy” package as provided by (new) SciPy. If for some reason this doesn’t work for you, chances are that your SciPy is too old. In that case, you will find that either “Numeric” or “numarray” is installed and should provide nearly the same capabilities.[5]\n",
    "\n",
    "### Arrays\n",
    "\n",
    "We introduce a new data type (provided by NumPy) which is called “`array`”. An array *appears* to be very similar to a list but an array can keep only elements of the same type (whereas a list can mix different kinds of objects). This means arrays are more efficient to store (because we don’t need to store the type for every element). It also makes arrays the data structure of choice for numerical calculations where we often deal with vectors and matricies.\n",
    "\n",
    "Vectors and matrices (and matrices with more than two indices) are all called “arrays” in NumPy.\n",
    "\n",
    "#### Vectors (1d-arrays)\n",
    "\n",
    "The data structure we will need most often is a vector. Here are a few examples of how we can generate one:"
   ],
   "metadata": {}
  },
  {
   "cell_type": "markdown",
   "source": [
    "# Array Creation and Properties"
   ],
   "metadata": {}
  },
  {
   "cell_type": "markdown",
   "source": [
    "There are a lot of ways to create arrays.  Let's look at a few"
   ],
   "metadata": {}
  },
  {
   "cell_type": "markdown",
   "source": [
    "Here we create an array using `arange` and then change its shape to be 3 rows and 5 columns."
   ],
   "metadata": {}
  },
  {
   "cell_type": "code",
   "execution_count": 1,
   "source": [
    "import numpy as np"
   ],
   "outputs": [],
   "metadata": {}
  },
  {
   "cell_type": "code",
   "execution_count": 3,
   "source": [
    "a=np.arange(15)\n",
    "b=np.arange(20)"
   ],
   "outputs": [],
   "metadata": {}
  },
  {
   "cell_type": "code",
   "execution_count": 4,
   "source": [
    "a"
   ],
   "outputs": [
    {
     "output_type": "execute_result",
     "data": {
      "text/plain": [
       "array([ 0,  1,  2,  3,  4,  5,  6,  7,  8,  9, 10, 11, 12, 13, 14])"
      ]
     },
     "metadata": {},
     "execution_count": 4
    }
   ],
   "metadata": {}
  },
  {
   "cell_type": "code",
   "execution_count": 6,
   "source": [
    "a=np.arange(15).reshape(3,5)\n",
    "a"
   ],
   "outputs": [
    {
     "output_type": "execute_result",
     "data": {
      "text/plain": [
       "array([[ 0,  1,  2,  3,  4],\n",
       "       [ 5,  6,  7,  8,  9],\n",
       "       [10, 11, 12, 13, 14]])"
      ]
     },
     "metadata": {},
     "execution_count": 6
    }
   ],
   "metadata": {}
  },
  {
   "cell_type": "markdown",
   "source": [
    "A NumPy array has a lot of meta-data associated with it describing its shape, datatype, etc."
   ],
   "metadata": {}
  },
  {
   "cell_type": "code",
   "execution_count": 8,
   "source": [
    "print(a.ndim)\n",
    "print(a.size)\n",
    "print(a.itemsize)"
   ],
   "outputs": [
    {
     "output_type": "stream",
     "name": "stdout",
     "text": [
      "2\n",
      "15\n",
      "8\n"
     ]
    }
   ],
   "metadata": {}
  },
  {
   "cell_type": "code",
   "execution_count": 10,
   "source": [
    "b=np.array([1,3,6])\n",
    "print(type(b))"
   ],
   "outputs": [
    {
     "output_type": "stream",
     "name": "stdout",
     "text": [
      "<class 'numpy.ndarray'>\n"
     ]
    }
   ],
   "metadata": {}
  },
  {
   "cell_type": "markdown",
   "source": [
    "we can create an array from a list"
   ],
   "metadata": {}
  },
  {
   "cell_type": "code",
   "execution_count": 15,
   "source": [
    "b=np.array([1.0,3.0,6.0])\n",
    "print(type(b))\n",
    "print(b.dtype)"
   ],
   "outputs": [
    {
     "output_type": "stream",
     "name": "stdout",
     "text": [
      "<class 'numpy.ndarray'>\n",
      "float64\n"
     ]
    }
   ],
   "metadata": {}
  },
  {
   "cell_type": "markdown",
   "source": [
    "we can create a multi-dimensional array of a specified size initialized all to 0 easily.  There is also an analogous ones() and empty() array routine.  Note that here we explicitly set the datatype for the array. \n",
    "\n",
    "Unlike lists in python, all of the elements of a numpy array are of the same datatype"
   ],
   "metadata": {}
  },
  {
   "cell_type": "code",
   "execution_count": 16,
   "source": [
    "c=np.eye(5)\n",
    "c"
   ],
   "outputs": [
    {
     "output_type": "execute_result",
     "data": {
      "text/plain": [
       "array([[1., 0., 0., 0., 0.],\n",
       "       [0., 1., 0., 0., 0.],\n",
       "       [0., 0., 1., 0., 0.],\n",
       "       [0., 0., 0., 1., 0.],\n",
       "       [0., 0., 0., 0., 1.]])"
      ]
     },
     "metadata": {},
     "execution_count": 16
    }
   ],
   "metadata": {}
  },
  {
   "cell_type": "markdown",
   "source": [
    "`linspace` (and `logspace`) create arrays with evenly space (in log) numbers.  For `logspace`, you specify the start and ending powers (`base**start` to `base**stop`)"
   ],
   "metadata": {}
  },
  {
   "cell_type": "code",
   "execution_count": 18,
   "source": [
    "d=np.linspace(5,10,10,endpoint=True)\n",
    "d"
   ],
   "outputs": [
    {
     "output_type": "execute_result",
     "data": {
      "text/plain": [
       "array([ 5.        ,  5.55555556,  6.11111111,  6.66666667,  7.22222222,\n",
       "        7.77777778,  8.33333333,  8.88888889,  9.44444444, 10.        ])"
      ]
     },
     "metadata": {},
     "execution_count": 18
    }
   ],
   "metadata": {}
  },
  {
   "cell_type": "code",
   "execution_count": 19,
   "source": [
    "d=np.logspace(-1,2,10,endpoint=True)\n",
    "d"
   ],
   "outputs": [
    {
     "output_type": "execute_result",
     "data": {
      "text/plain": [
       "array([  0.1       ,   0.21544347,   0.46415888,   1.        ,\n",
       "         2.15443469,   4.64158883,  10.        ,  21.5443469 ,\n",
       "        46.41588834, 100.        ])"
      ]
     },
     "metadata": {},
     "execution_count": 19
    }
   ],
   "metadata": {}
  },
  {
   "cell_type": "markdown",
   "source": [
    "As always, as for help -- the numpy functions have very nice docstrings"
   ],
   "metadata": {}
  },
  {
   "cell_type": "code",
   "execution_count": 20,
   "source": [
    "help(np.logspace)"
   ],
   "outputs": [
    {
     "output_type": "stream",
     "name": "stdout",
     "text": [
      "Help on function logspace in module numpy:\n",
      "\n",
      "logspace(start, stop, num=50, endpoint=True, base=10.0, dtype=None, axis=0)\n",
      "    Return numbers spaced evenly on a log scale.\n",
      "    \n",
      "    In linear space, the sequence starts at ``base ** start``\n",
      "    (`base` to the power of `start`) and ends with ``base ** stop``\n",
      "    (see `endpoint` below).\n",
      "    \n",
      "    .. versionchanged:: 1.16.0\n",
      "        Non-scalar `start` and `stop` are now supported.\n",
      "    \n",
      "    Parameters\n",
      "    ----------\n",
      "    start : array_like\n",
      "        ``base ** start`` is the starting value of the sequence.\n",
      "    stop : array_like\n",
      "        ``base ** stop`` is the final value of the sequence, unless `endpoint`\n",
      "        is False.  In that case, ``num + 1`` values are spaced over the\n",
      "        interval in log-space, of which all but the last (a sequence of\n",
      "        length `num`) are returned.\n",
      "    num : integer, optional\n",
      "        Number of samples to generate.  Default is 50.\n",
      "    endpoint : boolean, optional\n",
      "        If true, `stop` is the last sample. Otherwise, it is not included.\n",
      "        Default is True.\n",
      "    base : float, optional\n",
      "        The base of the log space. The step size between the elements in\n",
      "        ``ln(samples) / ln(base)`` (or ``log_base(samples)``) is uniform.\n",
      "        Default is 10.0.\n",
      "    dtype : dtype\n",
      "        The type of the output array.  If `dtype` is not given, infer the data\n",
      "        type from the other input arguments.\n",
      "    axis : int, optional\n",
      "        The axis in the result to store the samples.  Relevant only if start\n",
      "        or stop are array-like.  By default (0), the samples will be along a\n",
      "        new axis inserted at the beginning. Use -1 to get an axis at the end.\n",
      "    \n",
      "        .. versionadded:: 1.16.0\n",
      "    \n",
      "    \n",
      "    Returns\n",
      "    -------\n",
      "    samples : ndarray\n",
      "        `num` samples, equally spaced on a log scale.\n",
      "    \n",
      "    See Also\n",
      "    --------\n",
      "    arange : Similar to linspace, with the step size specified instead of the\n",
      "             number of samples. Note that, when used with a float endpoint, the\n",
      "             endpoint may or may not be included.\n",
      "    linspace : Similar to logspace, but with the samples uniformly distributed\n",
      "               in linear space, instead of log space.\n",
      "    geomspace : Similar to logspace, but with endpoints specified directly.\n",
      "    \n",
      "    Notes\n",
      "    -----\n",
      "    Logspace is equivalent to the code\n",
      "    \n",
      "    >>> y = np.linspace(start, stop, num=num, endpoint=endpoint)\n",
      "    ... # doctest: +SKIP\n",
      "    >>> power(base, y).astype(dtype)\n",
      "    ... # doctest: +SKIP\n",
      "    \n",
      "    Examples\n",
      "    --------\n",
      "    >>> np.logspace(2.0, 3.0, num=4)\n",
      "    array([ 100.        ,  215.443469  ,  464.15888336, 1000.        ])\n",
      "    >>> np.logspace(2.0, 3.0, num=4, endpoint=False)\n",
      "    array([100.        ,  177.827941  ,  316.22776602,  562.34132519])\n",
      "    >>> np.logspace(2.0, 3.0, num=4, base=2.0)\n",
      "    array([4.        ,  5.0396842 ,  6.34960421,  8.        ])\n",
      "    \n",
      "    Graphical illustration:\n",
      "    \n",
      "    >>> import matplotlib.pyplot as plt\n",
      "    >>> N = 10\n",
      "    >>> x1 = np.logspace(0.1, 1, N, endpoint=True)\n",
      "    >>> x2 = np.logspace(0.1, 1, N, endpoint=False)\n",
      "    >>> y = np.zeros(N)\n",
      "    >>> plt.plot(x1, y, 'o')\n",
      "    [<matplotlib.lines.Line2D object at 0x...>]\n",
      "    >>> plt.plot(x2, y + 0.5, 'o')\n",
      "    [<matplotlib.lines.Line2D object at 0x...>]\n",
      "    >>> plt.ylim([-0.5, 1])\n",
      "    (-0.5, 1)\n",
      "    >>> plt.show()\n",
      "\n"
     ]
    }
   ],
   "metadata": {}
  },
  {
   "cell_type": "markdown",
   "source": [
    "we can also initialize an array based on a function"
   ],
   "metadata": {}
  },
  {
   "cell_type": "code",
   "execution_count": 22,
   "source": [
    "a=np.fromfunction(lambda i,j:i==j,(3,3),dtype=int)\n",
    "a"
   ],
   "outputs": [
    {
     "output_type": "execute_result",
     "data": {
      "text/plain": [
       "array([[ True, False, False],\n",
       "       [False,  True, False],\n",
       "       [False, False,  True]])"
      ]
     },
     "metadata": {},
     "execution_count": 22
    }
   ],
   "metadata": {}
  },
  {
   "cell_type": "markdown",
   "source": [
    "# Array Operations"
   ],
   "metadata": {}
  },
  {
   "cell_type": "markdown",
   "source": [
    "most operations (`+`, `-`, `*`, `/`) will work on an entire array at once, element-by-element.\n",
    "\n",
    "Note that that the multiplication operator is not a matrix multiply (there is a new operator in python 3.5+, `@`, to do matrix multiplicaiton.\n",
    "\n",
    "Let's create a simply array to start with"
   ],
   "metadata": {}
  },
  {
   "cell_type": "code",
   "execution_count": 38,
   "source": [
    "a=np.arange(20).reshape(5,4)\n",
    "a"
   ],
   "outputs": [
    {
     "output_type": "execute_result",
     "data": {
      "text/plain": [
       "array([[ 0,  1,  2,  3],\n",
       "       [ 4,  5,  6,  7],\n",
       "       [ 8,  9, 10, 11],\n",
       "       [12, 13, 14, 15],\n",
       "       [16, 17, 18, 19]])"
      ]
     },
     "metadata": {},
     "execution_count": 38
    }
   ],
   "metadata": {}
  },
  {
   "cell_type": "markdown",
   "source": [
    "Multiplication by a scalar multiplies every element"
   ],
   "metadata": {}
  },
  {
   "cell_type": "code",
   "execution_count": 26,
   "source": [
    "a*2"
   ],
   "outputs": [
    {
     "output_type": "execute_result",
     "data": {
      "text/plain": [
       "array([[ 0,  2,  4,  6],\n",
       "       [ 8, 10, 12, 14],\n",
       "       [16, 18, 20, 22],\n",
       "       [24, 26, 28, 30],\n",
       "       [32, 34, 36, 38]])"
      ]
     },
     "metadata": {},
     "execution_count": 26
    }
   ],
   "metadata": {}
  },
  {
   "cell_type": "markdown",
   "source": [
    "adding two arrays adds element-by-element"
   ],
   "metadata": {}
  },
  {
   "cell_type": "code",
   "execution_count": 27,
   "source": [
    "a+5"
   ],
   "outputs": [
    {
     "output_type": "execute_result",
     "data": {
      "text/plain": [
       "array([[ 5,  6,  7,  8],\n",
       "       [ 9, 10, 11, 12],\n",
       "       [13, 14, 15, 16],\n",
       "       [17, 18, 19, 20],\n",
       "       [21, 22, 23, 24]])"
      ]
     },
     "metadata": {},
     "execution_count": 27
    }
   ],
   "metadata": {}
  },
  {
   "cell_type": "markdown",
   "source": [
    "multiplying two arrays multiplies element-by-element"
   ],
   "metadata": {}
  },
  {
   "cell_type": "code",
   "execution_count": 28,
   "source": [
    "a*a"
   ],
   "outputs": [
    {
     "output_type": "execute_result",
     "data": {
      "text/plain": [
       "array([[  0,   1,   4,   9],\n",
       "       [ 16,  25,  36,  49],\n",
       "       [ 64,  81, 100, 121],\n",
       "       [144, 169, 196, 225],\n",
       "       [256, 289, 324, 361]])"
      ]
     },
     "metadata": {},
     "execution_count": 28
    }
   ],
   "metadata": {}
  },
  {
   "cell_type": "markdown",
   "source": [
    "We can think of our 2-d array a was a 3 x 5 matrix (3 rows, 5 columns).  We can take the transpose to geta 5 x 3 matrix, and then we can do a matrix multiplication"
   ],
   "metadata": {}
  },
  {
   "cell_type": "code",
   "execution_count": null,
   "source": [
    "b=a.transpose()\n"
   ],
   "outputs": [],
   "metadata": {}
  },
  {
   "cell_type": "code",
   "execution_count": 32,
   "source": [
    "a @ b"
   ],
   "outputs": [
    {
     "output_type": "execute_result",
     "data": {
      "text/plain": [
       "array([[  14,   38,   62,   86,  110],\n",
       "       [  38,  126,  214,  302,  390],\n",
       "       [  62,  214,  366,  518,  670],\n",
       "       [  86,  302,  518,  734,  950],\n",
       "       [ 110,  390,  670,  950, 1230]])"
      ]
     },
     "metadata": {},
     "execution_count": 32
    }
   ],
   "metadata": {}
  },
  {
   "cell_type": "markdown",
   "source": [
    "We can sum along axes or the entire array"
   ],
   "metadata": {}
  },
  {
   "cell_type": "code",
   "execution_count": 34,
   "source": [
    "print(a.sum(axis=1))"
   ],
   "outputs": [
    {
     "output_type": "stream",
     "name": "stdout",
     "text": [
      "[ 6 22 38 54 70]\n"
     ]
    }
   ],
   "metadata": {}
  },
  {
   "cell_type": "code",
   "execution_count": 35,
   "source": [
    "a.sum()"
   ],
   "outputs": [
    {
     "output_type": "execute_result",
     "data": {
      "text/plain": [
       "190"
      ]
     },
     "metadata": {},
     "execution_count": 35
    }
   ],
   "metadata": {}
  },
  {
   "cell_type": "markdown",
   "source": [
    "Also get the extrema"
   ],
   "metadata": {}
  },
  {
   "cell_type": "code",
   "execution_count": 36,
   "source": [
    "a.min()"
   ],
   "outputs": [
    {
     "output_type": "execute_result",
     "data": {
      "text/plain": [
       "0"
      ]
     },
     "metadata": {},
     "execution_count": 36
    }
   ],
   "metadata": {}
  },
  {
   "cell_type": "markdown",
   "source": [
    "### universal functions"
   ],
   "metadata": {}
  },
  {
   "cell_type": "markdown",
   "source": [
    "Up until now, we have been discussing some of the basic nuts and bolts of NumPy; now, we will dive into the reasons that NumPy is so important in the Python data science world.\n",
    "Namely, it provides an easy and flexible interface to optimized computation with arrays of data.\n",
    "\n",
    "Computation on NumPy arrays can be very fast, or it can be very slow.\n",
    "The key to making it fast is to use *vectorized* operations, generally implemented through NumPy's *universal functions* (ufuncs).\n",
    "This section motivates the need for NumPy's ufuncs, which can be used to make repeated calculations on array elements much more efficient.\n",
    "It then introduces many of the most common and useful arithmetic ufuncs available in the NumPy package."
   ],
   "metadata": {}
  },
  {
   "cell_type": "markdown",
   "source": [
    "universal functions work element-by-element.  Let's create a new array scaled by `pi`"
   ],
   "metadata": {}
  },
  {
   "cell_type": "code",
   "execution_count": 40,
   "source": [
    "b=a*np.pi/112\n",
    "b"
   ],
   "outputs": [
    {
     "output_type": "execute_result",
     "data": {
      "text/plain": [
       "array([[0.        , 0.02804993, 0.05609987, 0.0841498 ],\n",
       "       [0.11219974, 0.14024967, 0.16829961, 0.19634954],\n",
       "       [0.22439948, 0.25244941, 0.28049934, 0.30854928],\n",
       "       [0.33659921, 0.36464915, 0.39269908, 0.42074902],\n",
       "       [0.44879895, 0.47684888, 0.50489882, 0.53294875]])"
      ]
     },
     "metadata": {},
     "execution_count": 40
    }
   ],
   "metadata": {}
  },
  {
   "cell_type": "code",
   "execution_count": 41,
   "source": [
    "c=np.cos(b)\n",
    "c"
   ],
   "outputs": [
    {
     "output_type": "execute_result",
     "data": {
      "text/plain": [
       "array([[1.        , 0.99960663, 0.99842682, 0.99646149],\n",
       "       [0.99371221, 0.99018113, 0.98587102, 0.98078528],\n",
       "       [0.97492791, 0.96830352, 0.96091732, 0.95277512],\n",
       "       [0.94388333, 0.93424894, 0.92387953, 0.91278327],\n",
       "       [0.90096887, 0.88844564, 0.87522342, 0.86131263]])"
      ]
     },
     "metadata": {},
     "execution_count": 41
    }
   ],
   "metadata": {}
  },
  {
   "cell_type": "markdown",
   "source": [
    "## Array Slicing: Accessing Subarrays"
   ],
   "metadata": {}
  },
  {
   "cell_type": "markdown",
   "source": [
    "Just as we can use square brackets to access individual array elements, we can also use them to access subarrays with the *slice* notation, marked by the colon (``:``) character.\n",
    "The NumPy slicing syntax follows that of the standard Python list; to access a slice of an array ``x``, use this:\n",
    "``` python\n",
    "x[start:stop:step]\n",
    "```\n",
    "If any of these are unspecified, they default to the values ``start=0``, ``stop=``*``size of dimension``*, ``step=1``.\n",
    "We'll take a look at accessing sub-arrays in one dimension and in multiple dimensions."
   ],
   "metadata": {}
  },
  {
   "cell_type": "code",
   "execution_count": 42,
   "source": [
    "a=np.arange(10)\n",
    "a"
   ],
   "outputs": [
    {
     "output_type": "execute_result",
     "data": {
      "text/plain": [
       "array([0, 1, 2, 3, 4, 5, 6, 7, 8, 9])"
      ]
     },
     "metadata": {},
     "execution_count": 42
    }
   ],
   "metadata": {}
  },
  {
   "cell_type": "markdown",
   "source": [
    "Now look at accessing a single element vs. a range (using slicing)"
   ],
   "metadata": {}
  },
  {
   "cell_type": "markdown",
   "source": [
    "Giving a single (0-based) index just references a single value"
   ],
   "metadata": {}
  },
  {
   "cell_type": "code",
   "execution_count": 43,
   "source": [
    "a[3]"
   ],
   "outputs": [
    {
     "output_type": "execute_result",
     "data": {
      "text/plain": [
       "3"
      ]
     },
     "metadata": {},
     "execution_count": 43
    }
   ],
   "metadata": {}
  },
  {
   "cell_type": "code",
   "execution_count": 45,
   "source": [
    "a[2:5]"
   ],
   "outputs": [
    {
     "output_type": "execute_result",
     "data": {
      "text/plain": [
       "array([2, 3, 4])"
      ]
     },
     "metadata": {},
     "execution_count": 45
    }
   ],
   "metadata": {}
  },
  {
   "cell_type": "code",
   "execution_count": 46,
   "source": [
    "a[0:10:2]"
   ],
   "outputs": [
    {
     "output_type": "execute_result",
     "data": {
      "text/plain": [
       "array([0, 2, 4, 6, 8])"
      ]
     },
     "metadata": {},
     "execution_count": 46
    }
   ],
   "metadata": {}
  },
  {
   "cell_type": "code",
   "execution_count": 47,
   "source": [
    "a[:]"
   ],
   "outputs": [
    {
     "output_type": "execute_result",
     "data": {
      "text/plain": [
       "array([0, 1, 2, 3, 4, 5, 6, 7, 8, 9])"
      ]
     },
     "metadata": {},
     "execution_count": 47
    }
   ],
   "metadata": {}
  },
  {
   "cell_type": "markdown",
   "source": [
    "## Multidimensional Arrays\n",
    "\n",
    "Multidimensional arrays are stored in a contiguous space in memory -- this means that the columns / rows need to be unraveled (flattened) so that it can be thought of as a single one-dimensional array.  Different programming languages do this via different conventions:\n",
    "\n",
    "\n",
    "Storage order:\n",
    "\n",
    "* Python/C use *row-major* storage: rows are stored one after the other\n",
    "* Fortran/matlab use *column-major* storage: columns are stored one after another\n",
    "\n",
    "The ordering matters when \n",
    "\n",
    "* passing arrays between languages (we'll talk about this later this semester)\n",
    "* looping over arrays -- you want to access elements that are next to one-another in memory\n",
    "  * e.g, in Fortran:\n",
    "  <pre>\n",
    "  double precision :: A(M,N)\n",
    "  do j = 1, N\n",
    "     do i = 1, M\n",
    "        A(i,j) = …\n",
    "     enddo\n",
    "  enddo\n",
    "  </pre>\n",
    "  \n",
    "  * in C\n",
    "  <pre>\n",
    "  double A[M][N];\n",
    "  for (i = 0; i < M; i++) {\n",
    "     for (j = 0; j < N; j++) {\n",
    "        A[i][j] = …\n",
    "     }\n",
    "  }  \n",
    "  </pre>\n",
    "  \n",
    "\n",
    "In python, using NumPy, we'll try to avoid explicit loops over elements as much as possible\n",
    "\n",
    "Let's look at multidimensional arrays:"
   ],
   "metadata": {}
  },
  {
   "cell_type": "code",
   "execution_count": 49,
   "source": [
    "a=np.arange(9).reshape(3,3)\n",
    "a"
   ],
   "outputs": [
    {
     "output_type": "execute_result",
     "data": {
      "text/plain": [
       "array([[0, 1, 2],\n",
       "       [3, 4, 5],\n",
       "       [6, 7, 8]])"
      ]
     },
     "metadata": {},
     "execution_count": 49
    }
   ],
   "metadata": {}
  },
  {
   "cell_type": "markdown",
   "source": [
    "Notice that the output of `a` shows the row-major storage.  The rows are grouped together in the inner `[...]`\n",
    "\n",
    "Giving a single index (0-based) for each dimension just references a single value in the array"
   ],
   "metadata": {}
  },
  {
   "cell_type": "code",
   "execution_count": 51,
   "source": [
    "a[1,1]"
   ],
   "outputs": [
    {
     "output_type": "execute_result",
     "data": {
      "text/plain": [
       "4"
      ]
     },
     "metadata": {},
     "execution_count": 51
    }
   ],
   "metadata": {}
  },
  {
   "cell_type": "markdown",
   "source": [
    "Doing slices will access a range of elements.  Think of the start and stop in the slice as referencing the left-edge of the slots in the array."
   ],
   "metadata": {}
  },
  {
   "cell_type": "code",
   "execution_count": 52,
   "source": [
    "a[0:2,0:2]"
   ],
   "outputs": [
    {
     "output_type": "execute_result",
     "data": {
      "text/plain": [
       "array([[0, 1],\n",
       "       [3, 4]])"
      ]
     },
     "metadata": {},
     "execution_count": 52
    }
   ],
   "metadata": {}
  },
  {
   "cell_type": "markdown",
   "source": [
    "Access a specific column"
   ],
   "metadata": {}
  },
  {
   "cell_type": "code",
   "execution_count": 53,
   "source": [
    "a[:,1]"
   ],
   "outputs": [
    {
     "output_type": "execute_result",
     "data": {
      "text/plain": [
       "array([1, 4, 7])"
      ]
     },
     "metadata": {},
     "execution_count": 53
    }
   ],
   "metadata": {}
  },
  {
   "cell_type": "markdown",
   "source": [
    "Sometimes we want a one-dimensional view into the array -- here we see the memory layout (row-major) more explicitly"
   ],
   "metadata": {}
  },
  {
   "cell_type": "code",
   "execution_count": 55,
   "source": [
    "a[2,:]"
   ],
   "outputs": [
    {
     "output_type": "execute_result",
     "data": {
      "text/plain": [
       "array([6, 7, 8])"
      ]
     },
     "metadata": {},
     "execution_count": 55
    }
   ],
   "metadata": {}
  },
  {
   "cell_type": "markdown",
   "source": [
    "we can also iterate -- this is done over the first axis (rows)"
   ],
   "metadata": {}
  },
  {
   "cell_type": "code",
   "execution_count": 58,
   "source": [
    "a=a.flatten()\n",
    "a\n",
    "#print (a)\n",
    "for i in a:\n",
    "    print(i)"
   ],
   "outputs": [
    {
     "output_type": "stream",
     "name": "stdout",
     "text": [
      "0\n",
      "1\n",
      "2\n",
      "3\n",
      "4\n",
      "5\n",
      "6\n",
      "7\n",
      "8\n"
     ]
    }
   ],
   "metadata": {}
  },
  {
   "cell_type": "markdown",
   "source": [
    "or element by element"
   ],
   "metadata": {}
  },
  {
   "cell_type": "markdown",
   "source": [
    "# Copying Arrays"
   ],
   "metadata": {}
  },
  {
   "cell_type": "markdown",
   "source": [
    "simply using \"=\" does not make a copy, but much like with lists, you will just have multiple names pointing to the same ndarray object\n",
    "\n",
    "Therefore, we need to understand if two arrays, `A` and `B` point to:\n",
    "* the same array, including shape and data/memory space\n",
    "* the same data/memory space, but perhaps different shapes (a _view_)\n",
    "* a separate cpy of the data (i.e. stored completely separately in memory)\n",
    "\n",
    "All of these are possible:\n",
    "* `B = A`\n",
    "  \n",
    "  this is _assignment_.  No copy is made. `A` and `B` point to the same data in memory and share the same shape, etc.  They are just two different labels for the same object in memory\n",
    "  \n",
    "\n",
    "* `B = A[:]`\n",
    "\n",
    "  this is a _view_ or _shallow copy_.  The shape info for A and B are stored independently, but both point to the same memory location for data\n",
    "  \n",
    "  \n",
    "* `B = A.copy()`\n",
    "\n",
    "  this is a _deep_ copy.  A completely separate object will be created in memory, with a completely separate location in memory.\n",
    "  \n",
    "Let's look at examples"
   ],
   "metadata": {}
  },
  {
   "cell_type": "code",
   "execution_count": 61,
   "source": [
    "b=a\n"
   ],
   "outputs": [],
   "metadata": {}
  },
  {
   "cell_type": "markdown",
   "source": [
    "Here is assignment -- we can just use the `is` operator to test for equality"
   ],
   "metadata": {}
  },
  {
   "cell_type": "code",
   "execution_count": 62,
   "source": [
    "a is b"
   ],
   "outputs": [
    {
     "output_type": "execute_result",
     "data": {
      "text/plain": [
       "True"
      ]
     },
     "metadata": {},
     "execution_count": 62
    }
   ],
   "metadata": {}
  },
  {
   "cell_type": "markdown",
   "source": [
    "Since `b` and `a` are the same, changes to the shape of one are reflected in the other -- no copy is made."
   ],
   "metadata": {}
  },
  {
   "cell_type": "code",
   "execution_count": 63,
   "source": [
    "b=a.copy()"
   ],
   "outputs": [],
   "metadata": {}
  },
  {
   "cell_type": "code",
   "execution_count": 64,
   "source": [
    "a is b"
   ],
   "outputs": [
    {
     "output_type": "execute_result",
     "data": {
      "text/plain": [
       "False"
      ]
     },
     "metadata": {},
     "execution_count": 64
    }
   ],
   "metadata": {}
  },
  {
   "cell_type": "code",
   "execution_count": 65,
   "source": [
    "b=a[:]"
   ],
   "outputs": [],
   "metadata": {}
  },
  {
   "cell_type": "markdown",
   "source": [
    "a shallow copy creates a new *view* into the array -- the data is the same, but the array properties can be different"
   ],
   "metadata": {}
  },
  {
   "cell_type": "code",
   "execution_count": 66,
   "source": [
    "a is b"
   ],
   "outputs": [
    {
     "output_type": "execute_result",
     "data": {
      "text/plain": [
       "False"
      ]
     },
     "metadata": {},
     "execution_count": 66
    }
   ],
   "metadata": {}
  },
  {
   "cell_type": "markdown",
   "source": [
    "since the underlying data is the same memory, changing an element of one is reflected in the other"
   ],
   "metadata": {}
  },
  {
   "cell_type": "code",
   "execution_count": 67,
   "source": [
    "a[3]=10"
   ],
   "outputs": [],
   "metadata": {}
  },
  {
   "cell_type": "markdown",
   "source": [
    "Even slices into an array are just views, still pointing to the same memory"
   ],
   "metadata": {}
  },
  {
   "cell_type": "code",
   "execution_count": 68,
   "source": [
    "b"
   ],
   "outputs": [
    {
     "output_type": "execute_result",
     "data": {
      "text/plain": [
       "array([ 0,  1,  2, 10,  4,  5,  6,  7,  8])"
      ]
     },
     "metadata": {},
     "execution_count": 68
    }
   ],
   "metadata": {}
  },
  {
   "cell_type": "markdown",
   "source": [
    "There are lots of ways to inquire if two arrays are the same, views, own their own data, etc"
   ],
   "metadata": {
    "collapsed": true
   }
  },
  {
   "cell_type": "code",
   "execution_count": 69,
   "source": [
    "b[-1]"
   ],
   "outputs": [
    {
     "output_type": "execute_result",
     "data": {
      "text/plain": [
       "8"
      ]
     },
     "metadata": {},
     "execution_count": 69
    }
   ],
   "metadata": {}
  },
  {
   "cell_type": "markdown",
   "source": [
    "to make a copy of the data of the array that you can deal with independently of the original, you need a deep copy"
   ],
   "metadata": {}
  },
  {
   "cell_type": "code",
   "execution_count": 70,
   "source": [
    "c=b.copy()"
   ],
   "outputs": [],
   "metadata": {}
  },
  {
   "cell_type": "markdown",
   "source": [
    "# Boolean Indexing"
   ],
   "metadata": {}
  },
  {
   "cell_type": "markdown",
   "source": [
    "There are lots of fun ways to index arrays to access only those elements that meet a certain condition"
   ],
   "metadata": {}
  },
  {
   "cell_type": "code",
   "execution_count": 71,
   "source": [
    "a=np.arange(9).reshape(3,3)"
   ],
   "outputs": [],
   "metadata": {}
  },
  {
   "cell_type": "markdown",
   "source": [
    "Here we set all the elements in the array that are > 4 to zero"
   ],
   "metadata": {}
  },
  {
   "cell_type": "code",
   "execution_count": 72,
   "source": [
    "a[a>4]=0\n",
    "a"
   ],
   "outputs": [
    {
     "output_type": "execute_result",
     "data": {
      "text/plain": [
       "array([[0, 1, 2],\n",
       "       [3, 4, 0],\n",
       "       [0, 0, 0]])"
      ]
     },
     "metadata": {},
     "execution_count": 72
    }
   ],
   "metadata": {}
  },
  {
   "cell_type": "markdown",
   "source": [
    "and now, all the zeros to -1"
   ],
   "metadata": {}
  },
  {
   "cell_type": "code",
   "execution_count": 74,
   "source": [
    "a[a==1]=-1\n",
    "a"
   ],
   "outputs": [
    {
     "output_type": "execute_result",
     "data": {
      "text/plain": [
       "array([[ 0, -1,  2],\n",
       "       [ 3,  4,  0],\n",
       "       [ 0,  0,  0]])"
      ]
     },
     "metadata": {},
     "execution_count": 74
    }
   ],
   "metadata": {}
  },
  {
   "cell_type": "code",
   "execution_count": 75,
   "source": [
    "a==-1"
   ],
   "outputs": [
    {
     "output_type": "execute_result",
     "data": {
      "text/plain": [
       "array([[False,  True, False],\n",
       "       [False, False, False],\n",
       "       [False, False, False]])"
      ]
     },
     "metadata": {},
     "execution_count": 75
    }
   ],
   "metadata": {}
  },
  {
   "cell_type": "markdown",
   "source": [
    "if we have 2 tests, we need to use `logical_and()` or `logical_or()`"
   ],
   "metadata": {}
  },
  {
   "cell_type": "code",
   "execution_count": 76,
   "source": [
    "a[np.logical_and(a>4,a<9)]=0\n",
    "a"
   ],
   "outputs": [
    {
     "output_type": "execute_result",
     "data": {
      "text/plain": [
       "array([[ 0, -1,  2],\n",
       "       [ 3,  4,  0],\n",
       "       [ 0,  0,  0]])"
      ]
     },
     "metadata": {},
     "execution_count": 76
    }
   ],
   "metadata": {}
  },
  {
   "cell_type": "markdown",
   "source": [
    "Our test that we index the array with returns a boolean array of the same shape:"
   ],
   "metadata": {}
  },
  {
   "cell_type": "code",
   "execution_count": 77,
   "source": [
    "a>4"
   ],
   "outputs": [
    {
     "output_type": "execute_result",
     "data": {
      "text/plain": [
       "array([[False, False, False],\n",
       "       [False, False, False],\n",
       "       [False, False, False]])"
      ]
     },
     "metadata": {},
     "execution_count": 77
    }
   ],
   "metadata": {}
  },
  {
   "cell_type": "markdown",
   "source": [
    "# Avoiding Loops"
   ],
   "metadata": {}
  },
  {
   "cell_type": "markdown",
   "source": [
    "Python's default implementation (known as CPython) does some operations very slowly.\n",
    "This is in part due to the dynamic, interpreted nature of the language: the fact that types are flexible, so that sequences of operations cannot be compiled down to efficient machine code as in languages like C and Fortran.\n",
    "Recently there have been various attempts to address this weakness: well-known examples are the [PyPy](http://pypy.org/) project, a just-in-time compiled implementation of Python; the [Cython](http://cython.org) project, which converts Python code to compilable C code; and the [Numba](http://numba.pydata.org/) project, which converts snippets of Python code to fast LLVM bytecode.\n",
    "Each of these has its strengths and weaknesses, but it is safe to say that none of the three approaches has yet surpassed the reach and popularity of the standard CPython engine.\n",
    "\n",
    "The relative sluggishness of Python generally manifests itself in situations where many small operations are being repeated – for instance looping over arrays to operate on each element."
   ],
   "metadata": {}
  },
  {
   "cell_type": "markdown",
   "source": [
    "In general, you want to avoid loops over elements on an array.\n",
    "\n",
    "Here, let's create 1-d x and y coordinates and then try to fill some larger array"
   ],
   "metadata": {}
  },
  {
   "cell_type": "code",
   "execution_count": 80,
   "source": [
    "xmin=ymin=0\n",
    "xmax=ymax=1\n",
    "m=23\n",
    "n=34\n",
    "a=np.linspace(xmin,xmax,m,endpoint=False)\n",
    "a\n",
    "b=np.linspace(ymin,ymax,n,endpoint=False)\n",
    "b\n"
   ],
   "outputs": [
    {
     "output_type": "execute_result",
     "data": {
      "text/plain": [
       "array([0.        , 0.02941176, 0.05882353, 0.08823529, 0.11764706,\n",
       "       0.14705882, 0.17647059, 0.20588235, 0.23529412, 0.26470588,\n",
       "       0.29411765, 0.32352941, 0.35294118, 0.38235294, 0.41176471,\n",
       "       0.44117647, 0.47058824, 0.5       , 0.52941176, 0.55882353,\n",
       "       0.58823529, 0.61764706, 0.64705882, 0.67647059, 0.70588235,\n",
       "       0.73529412, 0.76470588, 0.79411765, 0.82352941, 0.85294118,\n",
       "       0.88235294, 0.91176471, 0.94117647, 0.97058824])"
      ]
     },
     "metadata": {},
     "execution_count": 80
    }
   ],
   "metadata": {}
  },
  {
   "cell_type": "markdown",
   "source": [
    "we'll time out code"
   ],
   "metadata": {}
  },
  {
   "cell_type": "code",
   "execution_count": 82,
   "source": [
    "import time\n",
    "import numpy as np\n",
    "xmin=ymin=0\n",
    "xmax=ymax=1\n",
    "m=23\n",
    "n=34\n",
    "a=np.linspace(xmin,xmax,m,endpoint=False)\n",
    "a\n",
    "b=np.linspace(ymin,ymax,n,endpoint=False)\n",
    "b\n"
   ],
   "outputs": [
    {
     "output_type": "execute_result",
     "data": {
      "text/plain": [
       "array([0.        , 0.02941176, 0.05882353, 0.08823529, 0.11764706,\n",
       "       0.14705882, 0.17647059, 0.20588235, 0.23529412, 0.26470588,\n",
       "       0.29411765, 0.32352941, 0.35294118, 0.38235294, 0.41176471,\n",
       "       0.44117647, 0.47058824, 0.5       , 0.52941176, 0.55882353,\n",
       "       0.58823529, 0.61764706, 0.64705882, 0.67647059, 0.70588235,\n",
       "       0.73529412, 0.76470588, 0.79411765, 0.82352941, 0.85294118,\n",
       "       0.88235294, 0.91176471, 0.94117647, 0.97058824])"
      ]
     },
     "metadata": {},
     "execution_count": 82
    }
   ],
   "metadata": {}
  },
  {
   "cell_type": "code",
   "execution_count": 85,
   "source": [
    "t0=time.time()\n",
    "for i in a:\n",
    "    print(i)\n",
    "t1=time.time()\n",
    "print(\"time\",t1-t0)"
   ],
   "outputs": [
    {
     "output_type": "stream",
     "name": "stdout",
     "text": [
      "0.0\n",
      "0.043478260869565216\n",
      "0.08695652173913043\n",
      "0.13043478260869565\n",
      "0.17391304347826086\n",
      "0.21739130434782608\n",
      "0.2608695652173913\n",
      "0.30434782608695654\n",
      "0.34782608695652173\n",
      "0.3913043478260869\n",
      "0.43478260869565216\n",
      "0.4782608695652174\n",
      "0.5217391304347826\n",
      "0.5652173913043478\n",
      "0.6086956521739131\n",
      "0.6521739130434783\n",
      "0.6956521739130435\n",
      "0.7391304347826086\n",
      "0.7826086956521738\n",
      "0.8260869565217391\n",
      "0.8695652173913043\n",
      "0.9130434782608695\n",
      "0.9565217391304348\n",
      "time 0.001462697982788086\n"
     ]
    }
   ],
   "metadata": {}
  },
  {
   "cell_type": "markdown",
   "source": [
    "Now let's instead do this using all array syntax.  First will extend our 1-d coordinate arrays to be 2-d"
   ],
   "metadata": {}
  },
  {
   "cell_type": "code",
   "execution_count": 89,
   "source": [
    "x,y=np.meshgrid(a,b,indexing=\"ij\")\n",
    "x\n",
    "y"
   ],
   "outputs": [
    {
     "output_type": "execute_result",
     "data": {
      "text/plain": [
       "array([[0.        , 0.02941176, 0.05882353, 0.08823529, 0.11764706,\n",
       "        0.14705882, 0.17647059, 0.20588235, 0.23529412, 0.26470588,\n",
       "        0.29411765, 0.32352941, 0.35294118, 0.38235294, 0.41176471,\n",
       "        0.44117647, 0.47058824, 0.5       , 0.52941176, 0.55882353,\n",
       "        0.58823529, 0.61764706, 0.64705882, 0.67647059, 0.70588235,\n",
       "        0.73529412, 0.76470588, 0.79411765, 0.82352941, 0.85294118,\n",
       "        0.88235294, 0.91176471, 0.94117647, 0.97058824],\n",
       "       [0.        , 0.02941176, 0.05882353, 0.08823529, 0.11764706,\n",
       "        0.14705882, 0.17647059, 0.20588235, 0.23529412, 0.26470588,\n",
       "        0.29411765, 0.32352941, 0.35294118, 0.38235294, 0.41176471,\n",
       "        0.44117647, 0.47058824, 0.5       , 0.52941176, 0.55882353,\n",
       "        0.58823529, 0.61764706, 0.64705882, 0.67647059, 0.70588235,\n",
       "        0.73529412, 0.76470588, 0.79411765, 0.82352941, 0.85294118,\n",
       "        0.88235294, 0.91176471, 0.94117647, 0.97058824],\n",
       "       [0.        , 0.02941176, 0.05882353, 0.08823529, 0.11764706,\n",
       "        0.14705882, 0.17647059, 0.20588235, 0.23529412, 0.26470588,\n",
       "        0.29411765, 0.32352941, 0.35294118, 0.38235294, 0.41176471,\n",
       "        0.44117647, 0.47058824, 0.5       , 0.52941176, 0.55882353,\n",
       "        0.58823529, 0.61764706, 0.64705882, 0.67647059, 0.70588235,\n",
       "        0.73529412, 0.76470588, 0.79411765, 0.82352941, 0.85294118,\n",
       "        0.88235294, 0.91176471, 0.94117647, 0.97058824],\n",
       "       [0.        , 0.02941176, 0.05882353, 0.08823529, 0.11764706,\n",
       "        0.14705882, 0.17647059, 0.20588235, 0.23529412, 0.26470588,\n",
       "        0.29411765, 0.32352941, 0.35294118, 0.38235294, 0.41176471,\n",
       "        0.44117647, 0.47058824, 0.5       , 0.52941176, 0.55882353,\n",
       "        0.58823529, 0.61764706, 0.64705882, 0.67647059, 0.70588235,\n",
       "        0.73529412, 0.76470588, 0.79411765, 0.82352941, 0.85294118,\n",
       "        0.88235294, 0.91176471, 0.94117647, 0.97058824],\n",
       "       [0.        , 0.02941176, 0.05882353, 0.08823529, 0.11764706,\n",
       "        0.14705882, 0.17647059, 0.20588235, 0.23529412, 0.26470588,\n",
       "        0.29411765, 0.32352941, 0.35294118, 0.38235294, 0.41176471,\n",
       "        0.44117647, 0.47058824, 0.5       , 0.52941176, 0.55882353,\n",
       "        0.58823529, 0.61764706, 0.64705882, 0.67647059, 0.70588235,\n",
       "        0.73529412, 0.76470588, 0.79411765, 0.82352941, 0.85294118,\n",
       "        0.88235294, 0.91176471, 0.94117647, 0.97058824],\n",
       "       [0.        , 0.02941176, 0.05882353, 0.08823529, 0.11764706,\n",
       "        0.14705882, 0.17647059, 0.20588235, 0.23529412, 0.26470588,\n",
       "        0.29411765, 0.32352941, 0.35294118, 0.38235294, 0.41176471,\n",
       "        0.44117647, 0.47058824, 0.5       , 0.52941176, 0.55882353,\n",
       "        0.58823529, 0.61764706, 0.64705882, 0.67647059, 0.70588235,\n",
       "        0.73529412, 0.76470588, 0.79411765, 0.82352941, 0.85294118,\n",
       "        0.88235294, 0.91176471, 0.94117647, 0.97058824],\n",
       "       [0.        , 0.02941176, 0.05882353, 0.08823529, 0.11764706,\n",
       "        0.14705882, 0.17647059, 0.20588235, 0.23529412, 0.26470588,\n",
       "        0.29411765, 0.32352941, 0.35294118, 0.38235294, 0.41176471,\n",
       "        0.44117647, 0.47058824, 0.5       , 0.52941176, 0.55882353,\n",
       "        0.58823529, 0.61764706, 0.64705882, 0.67647059, 0.70588235,\n",
       "        0.73529412, 0.76470588, 0.79411765, 0.82352941, 0.85294118,\n",
       "        0.88235294, 0.91176471, 0.94117647, 0.97058824],\n",
       "       [0.        , 0.02941176, 0.05882353, 0.08823529, 0.11764706,\n",
       "        0.14705882, 0.17647059, 0.20588235, 0.23529412, 0.26470588,\n",
       "        0.29411765, 0.32352941, 0.35294118, 0.38235294, 0.41176471,\n",
       "        0.44117647, 0.47058824, 0.5       , 0.52941176, 0.55882353,\n",
       "        0.58823529, 0.61764706, 0.64705882, 0.67647059, 0.70588235,\n",
       "        0.73529412, 0.76470588, 0.79411765, 0.82352941, 0.85294118,\n",
       "        0.88235294, 0.91176471, 0.94117647, 0.97058824],\n",
       "       [0.        , 0.02941176, 0.05882353, 0.08823529, 0.11764706,\n",
       "        0.14705882, 0.17647059, 0.20588235, 0.23529412, 0.26470588,\n",
       "        0.29411765, 0.32352941, 0.35294118, 0.38235294, 0.41176471,\n",
       "        0.44117647, 0.47058824, 0.5       , 0.52941176, 0.55882353,\n",
       "        0.58823529, 0.61764706, 0.64705882, 0.67647059, 0.70588235,\n",
       "        0.73529412, 0.76470588, 0.79411765, 0.82352941, 0.85294118,\n",
       "        0.88235294, 0.91176471, 0.94117647, 0.97058824],\n",
       "       [0.        , 0.02941176, 0.05882353, 0.08823529, 0.11764706,\n",
       "        0.14705882, 0.17647059, 0.20588235, 0.23529412, 0.26470588,\n",
       "        0.29411765, 0.32352941, 0.35294118, 0.38235294, 0.41176471,\n",
       "        0.44117647, 0.47058824, 0.5       , 0.52941176, 0.55882353,\n",
       "        0.58823529, 0.61764706, 0.64705882, 0.67647059, 0.70588235,\n",
       "        0.73529412, 0.76470588, 0.79411765, 0.82352941, 0.85294118,\n",
       "        0.88235294, 0.91176471, 0.94117647, 0.97058824],\n",
       "       [0.        , 0.02941176, 0.05882353, 0.08823529, 0.11764706,\n",
       "        0.14705882, 0.17647059, 0.20588235, 0.23529412, 0.26470588,\n",
       "        0.29411765, 0.32352941, 0.35294118, 0.38235294, 0.41176471,\n",
       "        0.44117647, 0.47058824, 0.5       , 0.52941176, 0.55882353,\n",
       "        0.58823529, 0.61764706, 0.64705882, 0.67647059, 0.70588235,\n",
       "        0.73529412, 0.76470588, 0.79411765, 0.82352941, 0.85294118,\n",
       "        0.88235294, 0.91176471, 0.94117647, 0.97058824],\n",
       "       [0.        , 0.02941176, 0.05882353, 0.08823529, 0.11764706,\n",
       "        0.14705882, 0.17647059, 0.20588235, 0.23529412, 0.26470588,\n",
       "        0.29411765, 0.32352941, 0.35294118, 0.38235294, 0.41176471,\n",
       "        0.44117647, 0.47058824, 0.5       , 0.52941176, 0.55882353,\n",
       "        0.58823529, 0.61764706, 0.64705882, 0.67647059, 0.70588235,\n",
       "        0.73529412, 0.76470588, 0.79411765, 0.82352941, 0.85294118,\n",
       "        0.88235294, 0.91176471, 0.94117647, 0.97058824],\n",
       "       [0.        , 0.02941176, 0.05882353, 0.08823529, 0.11764706,\n",
       "        0.14705882, 0.17647059, 0.20588235, 0.23529412, 0.26470588,\n",
       "        0.29411765, 0.32352941, 0.35294118, 0.38235294, 0.41176471,\n",
       "        0.44117647, 0.47058824, 0.5       , 0.52941176, 0.55882353,\n",
       "        0.58823529, 0.61764706, 0.64705882, 0.67647059, 0.70588235,\n",
       "        0.73529412, 0.76470588, 0.79411765, 0.82352941, 0.85294118,\n",
       "        0.88235294, 0.91176471, 0.94117647, 0.97058824],\n",
       "       [0.        , 0.02941176, 0.05882353, 0.08823529, 0.11764706,\n",
       "        0.14705882, 0.17647059, 0.20588235, 0.23529412, 0.26470588,\n",
       "        0.29411765, 0.32352941, 0.35294118, 0.38235294, 0.41176471,\n",
       "        0.44117647, 0.47058824, 0.5       , 0.52941176, 0.55882353,\n",
       "        0.58823529, 0.61764706, 0.64705882, 0.67647059, 0.70588235,\n",
       "        0.73529412, 0.76470588, 0.79411765, 0.82352941, 0.85294118,\n",
       "        0.88235294, 0.91176471, 0.94117647, 0.97058824],\n",
       "       [0.        , 0.02941176, 0.05882353, 0.08823529, 0.11764706,\n",
       "        0.14705882, 0.17647059, 0.20588235, 0.23529412, 0.26470588,\n",
       "        0.29411765, 0.32352941, 0.35294118, 0.38235294, 0.41176471,\n",
       "        0.44117647, 0.47058824, 0.5       , 0.52941176, 0.55882353,\n",
       "        0.58823529, 0.61764706, 0.64705882, 0.67647059, 0.70588235,\n",
       "        0.73529412, 0.76470588, 0.79411765, 0.82352941, 0.85294118,\n",
       "        0.88235294, 0.91176471, 0.94117647, 0.97058824],\n",
       "       [0.        , 0.02941176, 0.05882353, 0.08823529, 0.11764706,\n",
       "        0.14705882, 0.17647059, 0.20588235, 0.23529412, 0.26470588,\n",
       "        0.29411765, 0.32352941, 0.35294118, 0.38235294, 0.41176471,\n",
       "        0.44117647, 0.47058824, 0.5       , 0.52941176, 0.55882353,\n",
       "        0.58823529, 0.61764706, 0.64705882, 0.67647059, 0.70588235,\n",
       "        0.73529412, 0.76470588, 0.79411765, 0.82352941, 0.85294118,\n",
       "        0.88235294, 0.91176471, 0.94117647, 0.97058824],\n",
       "       [0.        , 0.02941176, 0.05882353, 0.08823529, 0.11764706,\n",
       "        0.14705882, 0.17647059, 0.20588235, 0.23529412, 0.26470588,\n",
       "        0.29411765, 0.32352941, 0.35294118, 0.38235294, 0.41176471,\n",
       "        0.44117647, 0.47058824, 0.5       , 0.52941176, 0.55882353,\n",
       "        0.58823529, 0.61764706, 0.64705882, 0.67647059, 0.70588235,\n",
       "        0.73529412, 0.76470588, 0.79411765, 0.82352941, 0.85294118,\n",
       "        0.88235294, 0.91176471, 0.94117647, 0.97058824],\n",
       "       [0.        , 0.02941176, 0.05882353, 0.08823529, 0.11764706,\n",
       "        0.14705882, 0.17647059, 0.20588235, 0.23529412, 0.26470588,\n",
       "        0.29411765, 0.32352941, 0.35294118, 0.38235294, 0.41176471,\n",
       "        0.44117647, 0.47058824, 0.5       , 0.52941176, 0.55882353,\n",
       "        0.58823529, 0.61764706, 0.64705882, 0.67647059, 0.70588235,\n",
       "        0.73529412, 0.76470588, 0.79411765, 0.82352941, 0.85294118,\n",
       "        0.88235294, 0.91176471, 0.94117647, 0.97058824],\n",
       "       [0.        , 0.02941176, 0.05882353, 0.08823529, 0.11764706,\n",
       "        0.14705882, 0.17647059, 0.20588235, 0.23529412, 0.26470588,\n",
       "        0.29411765, 0.32352941, 0.35294118, 0.38235294, 0.41176471,\n",
       "        0.44117647, 0.47058824, 0.5       , 0.52941176, 0.55882353,\n",
       "        0.58823529, 0.61764706, 0.64705882, 0.67647059, 0.70588235,\n",
       "        0.73529412, 0.76470588, 0.79411765, 0.82352941, 0.85294118,\n",
       "        0.88235294, 0.91176471, 0.94117647, 0.97058824],\n",
       "       [0.        , 0.02941176, 0.05882353, 0.08823529, 0.11764706,\n",
       "        0.14705882, 0.17647059, 0.20588235, 0.23529412, 0.26470588,\n",
       "        0.29411765, 0.32352941, 0.35294118, 0.38235294, 0.41176471,\n",
       "        0.44117647, 0.47058824, 0.5       , 0.52941176, 0.55882353,\n",
       "        0.58823529, 0.61764706, 0.64705882, 0.67647059, 0.70588235,\n",
       "        0.73529412, 0.76470588, 0.79411765, 0.82352941, 0.85294118,\n",
       "        0.88235294, 0.91176471, 0.94117647, 0.97058824],\n",
       "       [0.        , 0.02941176, 0.05882353, 0.08823529, 0.11764706,\n",
       "        0.14705882, 0.17647059, 0.20588235, 0.23529412, 0.26470588,\n",
       "        0.29411765, 0.32352941, 0.35294118, 0.38235294, 0.41176471,\n",
       "        0.44117647, 0.47058824, 0.5       , 0.52941176, 0.55882353,\n",
       "        0.58823529, 0.61764706, 0.64705882, 0.67647059, 0.70588235,\n",
       "        0.73529412, 0.76470588, 0.79411765, 0.82352941, 0.85294118,\n",
       "        0.88235294, 0.91176471, 0.94117647, 0.97058824],\n",
       "       [0.        , 0.02941176, 0.05882353, 0.08823529, 0.11764706,\n",
       "        0.14705882, 0.17647059, 0.20588235, 0.23529412, 0.26470588,\n",
       "        0.29411765, 0.32352941, 0.35294118, 0.38235294, 0.41176471,\n",
       "        0.44117647, 0.47058824, 0.5       , 0.52941176, 0.55882353,\n",
       "        0.58823529, 0.61764706, 0.64705882, 0.67647059, 0.70588235,\n",
       "        0.73529412, 0.76470588, 0.79411765, 0.82352941, 0.85294118,\n",
       "        0.88235294, 0.91176471, 0.94117647, 0.97058824],\n",
       "       [0.        , 0.02941176, 0.05882353, 0.08823529, 0.11764706,\n",
       "        0.14705882, 0.17647059, 0.20588235, 0.23529412, 0.26470588,\n",
       "        0.29411765, 0.32352941, 0.35294118, 0.38235294, 0.41176471,\n",
       "        0.44117647, 0.47058824, 0.5       , 0.52941176, 0.55882353,\n",
       "        0.58823529, 0.61764706, 0.64705882, 0.67647059, 0.70588235,\n",
       "        0.73529412, 0.76470588, 0.79411765, 0.82352941, 0.85294118,\n",
       "        0.88235294, 0.91176471, 0.94117647, 0.97058824]])"
      ]
     },
     "metadata": {},
     "execution_count": 89
    }
   ],
   "metadata": {}
  },
  {
   "cell_type": "code",
   "execution_count": 92,
   "source": [
    "g=np.zeros((3,4),dtype=int)\n",
    "g"
   ],
   "outputs": [
    {
     "output_type": "execute_result",
     "data": {
      "text/plain": [
       "array([[0, 0, 0, 0],\n",
       "       [0, 0, 0, 0],\n",
       "       [0, 0, 0, 0]])"
      ]
     },
     "metadata": {},
     "execution_count": 92
    }
   ],
   "metadata": {}
  },
  {
   "cell_type": "markdown",
   "source": [
    "## NumPy Standard Data Types\n",
    "\n",
    "NumPy arrays contain values of a single type, so it is important to have detailed knowledge of those types and their limitations.\n",
    "Because NumPy is built in C, the types will be familiar to users of C, Fortran, and other related languages.\n",
    "\n",
    "The standard NumPy data types are listed in the following table.\n",
    "Note that when constructing an array, they can be specified using a string:\n",
    "\n",
    "```python\n",
    "np.zeros(10, dtype='int16')\n",
    "```\n",
    "\n",
    "Or using the associated NumPy object:\n",
    "\n",
    "```python\n",
    "np.zeros(10, dtype=np.int16)\n",
    "```"
   ],
   "metadata": {}
  },
  {
   "cell_type": "markdown",
   "source": [
    "| Data type\t    | Description |\n",
    "|---------------|-------------|\n",
    "| ``bool_``     | Boolean (True or False) stored as a byte |\n",
    "| ``int_``      | Default integer type (same as C ``long``; normally either ``int64`` or ``int32``)| \n",
    "| ``intc``      | Identical to C ``int`` (normally ``int32`` or ``int64``)| \n",
    "| ``intp``      | Integer used for indexing (same as C ``ssize_t``; normally either ``int32`` or ``int64``)| \n",
    "| ``int8``      | Byte (-128 to 127)| \n",
    "| ``int16``     | Integer (-32768 to 32767)|\n",
    "| ``int32``     | Integer (-2147483648 to 2147483647)|\n",
    "| ``int64``     | Integer (-9223372036854775808 to 9223372036854775807)| \n",
    "| ``uint8``     | Unsigned integer (0 to 255)| \n",
    "| ``uint16``    | Unsigned integer (0 to 65535)| \n",
    "| ``uint32``    | Unsigned integer (0 to 4294967295)| \n",
    "| ``uint64``    | Unsigned integer (0 to 18446744073709551615)| \n",
    "| ``float_``    | Shorthand for ``float64``.| \n",
    "| ``float16``   | Half precision float: sign bit, 5 bits exponent, 10 bits mantissa| \n",
    "| ``float32``   | Single precision float: sign bit, 8 bits exponent, 23 bits mantissa| \n",
    "| ``float64``   | Double precision float: sign bit, 11 bits exponent, 52 bits mantissa| \n",
    "| ``complex_``  | Shorthand for ``complex128``.| \n",
    "| ``complex64`` | Complex number, represented by two 32-bit floats| \n",
    "| ``complex128``| Complex number, represented by two 64-bit floats| "
   ],
   "metadata": {}
  },
  {
   "cell_type": "markdown",
   "source": [
    "More advanced type specification is possible, such as specifying big or little endian numbers; for more information, refer to the [NumPy documentation](http://numpy.org/).\n",
    "NumPy also supports compound data types, which will be covered in [Structured Data: NumPy's Structured Arrays](02.09-Structured-Data-NumPy.ipynb)."
   ],
   "metadata": {}
  },
  {
   "cell_type": "markdown",
   "source": [
    "## Array Concatenation and Splitting\n",
    "\n",
    "All of the preceding routines worked on single arrays. It's also possible to combine multiple arrays into one, and to conversely split a single array into multiple arrays. We'll take a look at those operations here."
   ],
   "metadata": {}
  },
  {
   "cell_type": "markdown",
   "source": [
    "### Concatenation of arrays\n",
    "\n",
    "Concatenation, or joining of two arrays in NumPy, is primarily accomplished using the routines ``np.concatenate``, ``np.vstack``, and ``np.hstack``.\n",
    "``np.concatenate`` takes a tuple or list of arrays as its first argument, as we can see here:"
   ],
   "metadata": {}
  },
  {
   "cell_type": "code",
   "execution_count": 105,
   "source": [
    "a=np.array([1,2,3,4])\n",
    "b=np.array([4,3,2,1])\n"
   ],
   "outputs": [],
   "metadata": {}
  },
  {
   "cell_type": "markdown",
   "source": [
    "You can also concatenate more than two arrays at once:"
   ],
   "metadata": {}
  },
  {
   "cell_type": "code",
   "execution_count": 106,
   "source": [
    "grid=np.concatenate([a,b])\n",
    "grid\n"
   ],
   "outputs": [
    {
     "output_type": "execute_result",
     "data": {
      "text/plain": [
       "array([1, 2, 3, 4, 4, 3, 2, 1])"
      ]
     },
     "metadata": {},
     "execution_count": 106
    }
   ],
   "metadata": {}
  },
  {
   "cell_type": "markdown",
   "source": [
    "It can also be used for two-dimensional arrays:"
   ],
   "metadata": {}
  },
  {
   "cell_type": "code",
   "execution_count": 108,
   "source": [
    "np.concatenate([grid,grid])\n"
   ],
   "outputs": [
    {
     "output_type": "execute_result",
     "data": {
      "text/plain": [
       "array([1, 2, 3, 4, 4, 3, 2, 1, 1, 2, 3, 4, 4, 3, 2, 1])"
      ]
     },
     "metadata": {},
     "execution_count": 108
    }
   ],
   "metadata": {}
  },
  {
   "cell_type": "markdown",
   "source": [
    "### Splitting of arrays\n",
    "\n",
    "The opposite of concatenation is splitting, which is implemented by the functions ``np.split``, ``np.hsplit``, and ``np.vsplit``.  For each of these, we can pass a list of indices giving the split points:"
   ],
   "metadata": {}
  },
  {
   "cell_type": "code",
   "execution_count": 109,
   "source": [
    "x1,x2,x3,x4=np.split(a,[3,6,8])\n",
    "x1"
   ],
   "outputs": [
    {
     "output_type": "execute_result",
     "data": {
      "text/plain": [
       "array([1, 2, 3])"
      ]
     },
     "metadata": {},
     "execution_count": 109
    }
   ],
   "metadata": {}
  },
  {
   "cell_type": "markdown",
   "source": [
    "Notice that *N* split-points, leads to *N + 1* subarrays.\n",
    "The related functions ``np.hsplit`` and ``np.vsplit`` are similar:"
   ],
   "metadata": {}
  },
  {
   "cell_type": "markdown",
   "source": [
    "### Aggregates\n",
    "\n",
    "For binary ufuncs, there are some interesting aggregates that can be computed directly from the object.\n",
    "For example, if we'd like to *reduce* an array with a particular operation, we can use the ``reduce`` method of any ufunc.\n",
    "A reduce repeatedly applies a given operation to the elements of an array until only a single result remains.\n",
    "\n",
    "For example, calling ``reduce`` on the ``add`` ufunc returns the sum of all elements in the array:"
   ],
   "metadata": {}
  },
  {
   "cell_type": "code",
   "execution_count": 110,
   "source": [
    "x=np.arange(1,9)\n",
    "x"
   ],
   "outputs": [
    {
     "output_type": "execute_result",
     "data": {
      "text/plain": [
       "array([1, 2, 3, 4, 5, 6, 7, 8])"
      ]
     },
     "metadata": {},
     "execution_count": 110
    }
   ],
   "metadata": {}
  },
  {
   "cell_type": "markdown",
   "source": [
    "Similarly, calling ``reduce`` on the ``multiply`` ufunc results in the product of all array elements:"
   ],
   "metadata": {}
  },
  {
   "cell_type": "code",
   "execution_count": 111,
   "source": [
    "np.add.reduce(x)"
   ],
   "outputs": [
    {
     "output_type": "execute_result",
     "data": {
      "text/plain": [
       "36"
      ]
     },
     "metadata": {},
     "execution_count": 111
    }
   ],
   "metadata": {}
  },
  {
   "cell_type": "markdown",
   "source": [
    "If we'd like to store all the intermediate results of the computation, we can instead use ``accumulate``:"
   ],
   "metadata": {}
  },
  {
   "cell_type": "code",
   "execution_count": 112,
   "source": [
    "np.multiply.reduce(x)"
   ],
   "outputs": [
    {
     "output_type": "execute_result",
     "data": {
      "text/plain": [
       "40320"
      ]
     },
     "metadata": {},
     "execution_count": 112
    }
   ],
   "metadata": {}
  },
  {
   "cell_type": "code",
   "execution_count": 113,
   "source": [
    "np.add.accumulate(x)"
   ],
   "outputs": [
    {
     "output_type": "execute_result",
     "data": {
      "text/plain": [
       "array([ 1,  3,  6, 10, 15, 21, 28, 36])"
      ]
     },
     "metadata": {},
     "execution_count": 113
    }
   ],
   "metadata": {}
  },
  {
   "cell_type": "code",
   "execution_count": null,
   "source": [
    "np.multiply.accumulate(x)"
   ],
   "outputs": [],
   "metadata": {}
  }
 ],
 "metadata": {
  "kernelspec": {
   "name": "python3",
   "display_name": "Python 3.8.8 64-bit ('base': conda)"
  },
  "language_info": {
   "codemirror_mode": {
    "name": "ipython",
    "version": 3
   },
   "file_extension": ".py",
   "mimetype": "text/x-python",
   "name": "python",
   "nbconvert_exporter": "python",
   "pygments_lexer": "ipython3",
   "version": "3.8.8"
  },
  "interpreter": {
   "hash": "935779d57f725094de12923e12732c00ebf7a2640f8ea30a638d7a5516f5f5f7"
  }
 },
 "nbformat": 4,
 "nbformat_minor": 2
}